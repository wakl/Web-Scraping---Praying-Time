{
 "cells": [
  {
   "cell_type": "code",
   "execution_count": 1,
   "metadata": {},
   "outputs": [],
   "source": [
    "import bs4\n",
    "import requests\n",
    "import lxml\n",
    "import re\n",
    "from datetime import datetime"
   ]
  },
  {
   "cell_type": "code",
   "execution_count": 2,
   "metadata": {},
   "outputs": [],
   "source": [
    "url = 'https://visitabudhabi.ae/en/travel/essential.info/prayer.times.aspx'"
   ]
  },
  {
   "cell_type": "code",
   "execution_count": 3,
   "metadata": {},
   "outputs": [
    {
     "name": "stdout",
     "output_type": "stream",
     "text": [
      "Fajr = 04:52:00\n",
      "Shorook = 06:05:00\n",
      "Zuhr = 12:20:00\n",
      "Asr = 15:47:00\n",
      "Maghrib = 18:28:00\n",
      "Isha = 19:42:00\n"
     ]
    }
   ],
   "source": [
    "def get_pray_time (url):\n",
    "    count=0\n",
    "    p_times = ['Fajr','Shorook','Zuhr','Asr','Maghrib','Isha']\n",
    "    res= requests.get(url)\n",
    "    soup = bs4.BeautifulSoup(res.text,'lxml')\n",
    "    pray_time = soup.find_all(\"span\", class_=\"t-right\")\n",
    "    for i in pray_time:\n",
    "        print(p_times[count],\"=\", datetime.strptime(i.text,'%H:%M').time())\n",
    "        count+=1\n",
    "        if count >= 6:\n",
    "            break\n",
    "    return\n",
    "\n",
    "get_pray_time(url)"
   ]
  },
  {
   "cell_type": "code",
   "execution_count": null,
   "metadata": {},
   "outputs": [],
   "source": []
  }
 ],
 "metadata": {
  "kernelspec": {
   "display_name": "Python [conda env:anaconda3]",
   "language": "python",
   "name": "conda-env-anaconda3-py"
  },
  "language_info": {
   "codemirror_mode": {
    "name": "ipython",
    "version": 3
   },
   "file_extension": ".py",
   "mimetype": "text/x-python",
   "name": "python",
   "nbconvert_exporter": "python",
   "pygments_lexer": "ipython3",
   "version": "3.6.5"
  }
 },
 "nbformat": 4,
 "nbformat_minor": 2
}
